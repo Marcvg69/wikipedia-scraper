{
  "cells": [
    {
      "cell_type": "markdown",
      "metadata": {
        "id": "rru15J6cT0aF"
      },
      "source": [
        "# Your first scraper\n",
        "In this project, we will guide you step by step through the process of:\n",
        "\n",
        "1. creating a self-contained development environment.\n",
        "1. retrieving some information from an API (a website for computers)\n",
        "2. leveraging it to scrape a website that does not provide an API\n",
        "3. saving the output for later processing\n",
        "\n",
        "Here we query an API for a list of countries and their past leaders. We then extract and sanitize their short bio from Wikipedia. Finally, we save the data to disk.\n",
        "\n",
        "This task is often the first (coding) step of a datascience project and you will often come back to it in the future.\n",
        "\n",
        "You will study topics such as *scraping*, *data structures*, *regular expressions*, *concurrency* and *file handling*. We will point out useful resources at the appropriate time. \n",
        "\n",
        "Let's dive in!"
      ]
    },
    {
      "attachments": {},
      "cell_type": "markdown",
      "metadata": {},
      "source": [
        "## 0. Creating a clean environment\n",
        "\n",
        "Use the [`venv`](https://docs.python.org/3/library/venv.html) command to create a new environment called `wikipedia_scraper_env`.\n",
        "\n",
        "Activate it and add it to you `.gitignore` file. \n",
        "\n",
        "You will find more info about virtual environments in the course content and on the web."
      ]
    },
    {
      "cell_type": "markdown",
      "metadata": {
        "id": "48qvKH56a1Wy"
      },
      "source": [
        "## 1. API Scraping\n",
        "\n",
        "### 1a. A simple API query\n",
        "You will start with the basics: how to do a simple request to an [API endpoint](../../2.python/2.python_advanced/05.Scraping/5.apis.ipynb).\n",
        "\n",
        "You will use the [requests](https://requests.readthedocs.io/en/latest/) external library through the `import` keyword. NOTE: external libraries need to be installed first. Check the [request Quickstart](https://requests.readthedocs.io/en/latest/user/quickstart/) section of the documentation to:\n",
        "\n",
        "1. Use the `get()` method to connect to this endpoint: https://country-leaders.onrender.com/status\n",
        "2. Check if the `status_code` is equal to 200, which means OK.\n",
        "    * if OK, `print()` the `text`` of the response.\n",
        "    * if not, `print()` the `status_code`. \n",
        "\n",
        "Here is an explanation of [HTTP status codes](https://en.wikipedia.org/wiki/List_of_HTTP_status_codes).\n"
      ]
    },
    {
      "cell_type": "code",
      "execution_count": 8,
      "metadata": {},
      "outputs": [
        {
          "name": "stdout",
          "output_type": "stream",
          "text": [
            "/Users/Marc/Documents/GitHub/wikipedia-scraper/myenv/bin/python\n"
          ]
        }
      ],
      "source": [
        "import sys\n",
        "print(sys.executable)\n"
      ]
    },
    {
      "cell_type": "markdown",
      "metadata": {},
      "source": [
        "$ python -m pip install requests"
      ]
    },
    {
      "cell_type": "code",
      "execution_count": 1,
      "metadata": {
        "id": "9baoMWgIcK3E"
      },
      "outputs": [
        {
          "name": "stdout",
          "output_type": "stream",
          "text": [
            "\"Alive\"\n"
          ]
        }
      ],
      "source": [
        "# import the requests library (1 line)\n",
        "\n",
        "# assign the root url (without /status) to the root_url variable for ease of reference (1 line)\n",
        "\n",
        "# assign the /status endpoint to another variable called status_url (1 line)\n",
        "\n",
        "# query the /status endpoint using the get() method and store it in the req variable (1 line)\n",
        "\n",
        "# check the status_code using a condition and print appropriate messages (4 lines)\n",
        "import requests  # import the requests library\n",
        "\n",
        "root_url = \"https://country-leaders.onrender.com\"  # assign root URL\n",
        "status_url = f\"{root_url}/status\"  # assign the /status endpoint\n",
        "\n",
        "req = requests.get(status_url)  # make the GET request\n",
        "\n",
        "if req.status_code == 200:\n",
        "    print(req.text)  # print response text if OK\n",
        "else:\n",
        "    print(f\"Error: {req.status_code}\")  # print status code if not OK\n"
      ]
    },
    {
      "cell_type": "markdown",
      "metadata": {
        "id": "TL72ovJUcZTA"
      },
      "source": [
        "### 1b. Dealing with JSON\n",
        "\n",
        "[JSON](https://quickref.me/json) is the preferred format to deal with data over the web. You cannot avoid it so you would better get acquainted.\n",
        "\n",
        "Connect to another endpoint called `/countries` but this time the API will return data in the JSON format. \n"
      ]
    },
    {
      "cell_type": "code",
      "execution_count": 8,
      "metadata": {
        "id": "Y0DLiYCWcg5W"
      },
      "outputs": [
        {
          "name": "stdout",
          "output_type": "stream",
          "text": [
            "Error: 403\n",
            "{\"message\":\"The cookie is missing\"}\n"
          ]
        }
      ],
      "source": [
        "# Set the countries_url variable (1 line)\n",
        "\n",
        "# query the /countries endpoint using the get() method and store it in the req variable (1 line)\n",
        "\n",
        "# Get the JSON content and store it in the countries variable (1 line)\n",
        "\n",
        "# display the request's status code and the countries variable (1 line)import requests\n",
        "\n",
        "# Step 1: Set up the base and endpoint URLs\n",
        "import requests\n",
        "\n",
        "root_url = \"https://country-leaders.onrender.com\"\n",
        "countries_url = f\"{root_url}/countries\"\n",
        "\n",
        "# Start a session (to store cookies)\n",
        "session = requests.Session()\n",
        "\n",
        "# Pretend to be a real browser\n",
        "session.headers.update({\n",
        "    \"User-Agent\": \"Mozilla/5.0 (Macintosh; Intel Mac OS X 10_15_7) \"\n",
        "                  \"AppleWebKit/537.36 (KHTML, like Gecko) \"\n",
        "                  \"Chrome/114.0.0.0 Safari/537.36\"\n",
        "})\n",
        "\n",
        "# First, make a GET request to the root to get the cookie\n",
        "session.get(root_url)  # Now the session has the necessary cookie\n",
        "\n",
        "# Now access the protected endpoint\n",
        "response = session.get(countries_url)\n",
        "\n",
        "# Check result\n",
        "if response.status_code == 200:\n",
        "    countries = response.json()\n",
        "    print(countries)\n",
        "else:\n",
        "    print(f\"Error: {response.status_code}\")\n",
        "    print(response.text)\n",
        "\n",
        "\n"
      ]
    },
    {
      "cell_type": "markdown",
      "metadata": {},
      "source": [
        "Check this out ! https://community.render.com/t/setting-cookies-onrender-com/7886?utm_source=chatgpt.com\n"
      ]
    },
    {
      "cell_type": "markdown",
      "metadata": {
        "id": "1x25JA6vaRBi"
      },
      "source": [
        "### 1c. Cookies anyone?\n",
        "\n",
        "It looks like the access to this API is restricted...\n",
        "Query the `/cookie` endpoint and extract the appropriate field to access your cookie.\n",
        "\n",
        "You will need to use this cookie in each of the following API requests."
      ]
    },
    {
      "cell_type": "code",
      "execution_count": 12,
      "metadata": {
        "id": "dTDwpN9Q3nk_"
      },
      "outputs": [
        {
          "name": "stdout",
          "output_type": "stream",
          "text": [
            "{'message': 'The cookie has been created'}\n"
          ]
        }
      ],
      "source": [
        "# Set the cookie_url variable (1 line)\n",
        "\n",
        "# Query the enpoint, set the cookies variable and display it (2 lines)import requests\n",
        "\n",
        "# Set the URL for the cookie endpoint\n",
        "cookie_url = \"https://country-leaders.onrender.com/cookie\"\n",
        "\n",
        "# Query the endpoint\n",
        "response = requests.get(cookie_url)\n",
        "\n",
        "# Extract the cookie (it comes as JSON)\n",
        "cookies = response.json()\n",
        "print(cookies)\n"
      ]
    },
    {
      "cell_type": "markdown",
      "metadata": {
        "id": "DHBNaFJo2M9e"
      },
      "source": [
        "Try to query the countries endpoint using the cookie, save the output and print it."
      ]
    },
    {
      "cell_type": "code",
      "execution_count": 14,
      "metadata": {
        "id": "9Y63sTXY7ppT"
      },
      "outputs": [
        {
          "name": "stdout",
          "output_type": "stream",
          "text": [
            "Cookie name: user_cookie\n",
            "Cookie value: c8349f6d-3802-4a63-bf24-cf852b6a526b\n",
            "Countries: ['fr', 'us', 'be', 'ru', 'ma']\n"
          ]
        }
      ],
      "source": [
        "# query the /countries endpoint, assign the output to the countries variable (1 line)\n",
        "\n",
        "# display the countries variable (1 line)\n",
        "# Query the /countries endpoint using the cookie\n",
        "import requests\n",
        "\n",
        "# Step 1: Get the cookie\n",
        "cookie_url = \"https://country-leaders.onrender.com/cookie\"\n",
        "response = requests.get(cookie_url)\n",
        "\n",
        "# Extract the actual cookie from the response\n",
        "cookie_jar = response.cookies.get_dict()\n",
        "\n",
        "# Print cookie name and value\n",
        "for name, value in cookie_jar.items():\n",
        "    print(f\"Cookie name: {name}\")\n",
        "    print(f\"Cookie value: {value}\")\n",
        "\n",
        "# Step 2: Use the cookie to query the /countries endpoint\n",
        "countries = requests.get(\n",
        "    \"https://country-leaders.onrender.com/countries\",\n",
        "    cookies=cookie_jar\n",
        ")\n",
        "\n",
        "# Step 3: Display the result\n",
        "print(\"Countries:\", countries.json())\n",
        "\n"
      ]
    },
    {
      "cell_type": "markdown",
      "metadata": {
        "id": "I3HmuGTT9lU1"
      },
      "source": [
        "Chances are the cookie has expired... Thanksfully, you got a nice error message. For now, simply execute the last 2 cells quickly so you get a result."
      ]
    },
    {
      "cell_type": "code",
      "execution_count": null,
      "metadata": {},
      "outputs": [],
      "source": []
    },
    {
      "cell_type": "markdown",
      "metadata": {
        "id": "Egv40GBV8rSH"
      },
      "source": [
        "### 1d. Getting the actual data from the API\n",
        "\n",
        "Query the `/leaders` endpoint."
      ]
    },
    {
      "cell_type": "code",
      "execution_count": 5,
      "metadata": {
        "id": "ZwLFqcBA8PaD"
      },
      "outputs": [],
      "source": [
        "# Set the leaders_url variable (1 line)\n",
        "\n",
        "# query the /leaders endpoint, assign the output to the leaders variable (1 line)\n",
        "\n",
        "# display the leaders variable (1 line)\n"
      ]
    },
    {
      "cell_type": "markdown",
      "metadata": {
        "id": "1QyM7vWBAlY4"
      },
      "source": [
        "It looks like this endpoint requires additional information in order to return its result. Check the API [*documentation*](https://country-leaders.onrender.com/docs) in your web browser.\n",
        "\n",
        "Change the query to accept *parameters*. You should know where to find help by now."
      ]
    },
    {
      "cell_type": "code",
      "execution_count": 17,
      "metadata": {
        "id": "gIEFBhBeAkzf"
      },
      "outputs": [
        {
          "name": "stdout",
          "output_type": "stream",
          "text": [
            "[{'id': 'Q157', 'first_name': 'François', 'last_name': 'Hollande', 'birth_date': '1954-08-12', 'death_date': None, 'place_of_birth': 'Rouen', 'wikipedia_url': 'https://fr.wikipedia.org/wiki/Fran%C3%A7ois_Hollande', 'start_mandate': '2012-05-15', 'end_mandate': '2017-05-14'}, {'id': 'Q329', 'first_name': 'Nicolas', 'last_name': 'Sarkozy', 'birth_date': '1955-01-28', 'death_date': None, 'place_of_birth': 'Paris', 'wikipedia_url': 'https://fr.wikipedia.org/wiki/Nicolas_Sarkozy', 'start_mandate': '2007-05-16', 'end_mandate': '2012-05-15'}, {'id': 'Q2038', 'first_name': 'François', 'last_name': 'Mitterrand', 'birth_date': '1916-10-26', 'death_date': '1996-01-08', 'place_of_birth': 'Jarnac', 'wikipedia_url': 'https://fr.wikipedia.org/wiki/Fran%C3%A7ois_Mitterrand', 'start_mandate': '1981-05-21', 'end_mandate': '1995-05-17'}, {'id': 'Q2042', 'first_name': 'Charles', 'last_name': 'de Gaulle', 'birth_date': '1890-11-22', 'death_date': '1970-11-09', 'place_of_birth': 'Lille', 'wikipedia_url': 'https://fr.wikipedia.org/wiki/Charles_de_Gaulle', 'start_mandate': '1959-01-08', 'end_mandate': '1969-04-28'}, {'id': 'Q2105', 'first_name': 'Jacques', 'last_name': 'Chirac', 'birth_date': '1932-11-29', 'death_date': '2019-09-26', 'place_of_birth': '5th arrondissement of Paris', 'wikipedia_url': 'https://fr.wikipedia.org/wiki/Jacques_Chirac', 'start_mandate': '1995-05-17', 'end_mandate': '2007-05-16'}, {'id': 'Q2124', 'first_name': 'Valéry', 'last_name': \"Giscard d'Estaing\", 'birth_date': '1926-02-02', 'death_date': '2020-12-02', 'place_of_birth': 'Koblenz', 'wikipedia_url': 'https://fr.wikipedia.org/wiki/Val%C3%A9ry_Giscard_d%27Estaing', 'start_mandate': '1974-05-27', 'end_mandate': '1981-05-21'}, {'id': 'Q2185', 'first_name': 'Georges', 'last_name': 'Pompidou', 'birth_date': '1911-07-05', 'death_date': '1974-04-02', 'place_of_birth': 'Montboudif', 'wikipedia_url': 'https://fr.wikipedia.org/wiki/Georges_Pompidou', 'start_mandate': '1969-06-20', 'end_mandate': '1974-04-02'}, {'id': 'Q5738', 'first_name': 'Adolphe', 'last_name': 'Thiers', 'birth_date': '1797-04-15', 'death_date': '1877-09-03', 'place_of_birth': 'Marseille', 'wikipedia_url': 'https://fr.wikipedia.org/wiki/Adolphe_Thiers', 'start_mandate': '1871-08-31', 'end_mandate': '1873-05-24'}, {'id': 'Q7721', 'first_name': 'Napoléon', 'last_name': 'Bonaparte', 'birth_date': '1808-04-20', 'death_date': '1873-01-09', 'place_of_birth': 'Paris', 'wikipedia_url': 'https://fr.wikipedia.org/wiki/Napol%C3%A9on_III', 'start_mandate': '1848-12-20', 'end_mandate': '1852-12-02'}, {'id': 'Q12680', 'first_name': 'Paul', 'last_name': 'Doumer', 'birth_date': '1857-03-22', 'death_date': '1932-05-07', 'place_of_birth': 'Aurillac', 'wikipedia_url': 'https://fr.wikipedia.org/wiki/Paul_Doumer', 'start_mandate': '1931-06-13', 'end_mandate': '1932-05-07'}, {'id': 'Q12950', 'first_name': 'Alain', 'last_name': 'Poher', 'birth_date': '1909-04-17', 'death_date': '1996-12-09', 'place_of_birth': 'Ablon-sur-Seine', 'wikipedia_url': 'https://fr.wikipedia.org/wiki/Alain_Poher', 'start_mandate': '1969-04-28', 'end_mandate': '1969-06-20'}, {'id': 'Q158749', 'first_name': 'Albert', 'last_name': 'Lebrun', 'birth_date': '1871-08-29', 'death_date': '1950-03-06', 'place_of_birth': 'Mercy-le-Haut', 'wikipedia_url': 'https://fr.wikipedia.org/wiki/Albert_Lebrun', 'start_mandate': '1932-05-10', 'end_mandate': '1940-07-11'}, {'id': 'Q158768', 'first_name': 'René', 'last_name': 'Coty', 'birth_date': '1882-03-20', 'death_date': '1962-11-22', 'place_of_birth': 'Le Havre', 'wikipedia_url': 'https://fr.wikipedia.org/wiki/Ren%C3%A9_Coty', 'start_mandate': '1954-01-16', 'end_mandate': '1959-01-08'}, {'id': 'Q158772', 'first_name': 'Vincent', 'last_name': 'Auriol', 'birth_date': '1884-08-27', 'death_date': '1966-01-01', 'place_of_birth': 'Revel', 'wikipedia_url': 'https://fr.wikipedia.org/wiki/Vincent_Auriol', 'start_mandate': '1947-01-16', 'end_mandate': '1954-01-16'}, {'id': 'Q158838', 'first_name': 'Patrice', 'last_name': 'de Mac Mahon', 'birth_date': '1808-06-13', 'death_date': '1893-10-17', 'place_of_birth': 'Sully', 'wikipedia_url': 'https://fr.wikipedia.org/wiki/Patrice_de_Mac_Mahon', 'start_mandate': '1873-05-24', 'end_mandate': '1879-01-30'}, {'id': 'Q169502', 'first_name': 'Émile', 'last_name': 'Loubet', 'birth_date': '1838-12-31', 'death_date': '1929-12-20', 'place_of_birth': 'Marsanne', 'wikipedia_url': 'https://fr.wikipedia.org/wiki/%C3%89mile_Loubet', 'start_mandate': '1899-02-18', 'end_mandate': '1906-02-18'}, {'id': 'Q191974', 'first_name': 'Raymond', 'last_name': 'Poincaré', 'birth_date': '1860-08-20', 'death_date': '1934-10-15', 'place_of_birth': 'Bar-le-Duc', 'wikipedia_url': 'https://fr.wikipedia.org/wiki/Raymond_Poincar%C3%A9', 'start_mandate': '1913-02-18', 'end_mandate': '1920-02-18'}, {'id': 'Q215778', 'first_name': 'Marie', 'last_name': 'Carnot', 'birth_date': '1837-08-11', 'death_date': '1894-06-25', 'place_of_birth': 'Limoges', 'wikipedia_url': 'https://fr.wikipedia.org/wiki/Sadi_Carnot_(homme_d%27%C3%89tat)', 'start_mandate': '1887-12-03', 'end_mandate': '1894-06-25'}, {'id': 'Q274540', 'first_name': 'Alexandre', 'last_name': 'Millerand', 'birth_date': '1859-02-10', 'death_date': '1943-04-06', 'place_of_birth': 'Paris', 'wikipedia_url': 'https://fr.wikipedia.org/wiki/Alexandre_Millerand', 'start_mandate': '1920-09-23', 'end_mandate': '1924-06-11'}, {'id': 'Q296064', 'first_name': 'Gaston', 'last_name': 'Doumergue', 'birth_date': '1863-08-01', 'death_date': '1937-06-18', 'place_of_birth': 'Aigues-Vives', 'wikipedia_url': 'https://fr.wikipedia.org/wiki/Gaston_Doumergue', 'start_mandate': '1924-06-13', 'end_mandate': '1931-06-13'}, {'id': 'Q296076', 'first_name': 'Félix', 'last_name': 'Faure', 'birth_date': '1841-01-30', 'death_date': '1899-02-16', 'place_of_birth': 'Paris', 'wikipedia_url': 'https://fr.wikipedia.org/wiki/F%C3%A9lix_Faure', 'start_mandate': '1895-01-17', 'end_mandate': '1899-02-16'}, {'id': 'Q296083', 'first_name': 'Jules', 'last_name': 'Grévy', 'birth_date': '1807-08-15', 'death_date': '1891-09-09', 'place_of_birth': 'Mont-sous-Vaudrey', 'wikipedia_url': 'https://fr.wikipedia.org/wiki/Jules_Gr%C3%A9vy', 'start_mandate': '1879-01-30', 'end_mandate': '1887-12-02'}, {'id': 'Q296673', 'first_name': 'Clément', 'last_name': 'Fallières', 'birth_date': '1841-11-06', 'death_date': '1931-06-22', 'place_of_birth': 'Mézin', 'wikipedia_url': 'https://fr.wikipedia.org/wiki/Armand_Falli%C3%A8res', 'start_mandate': '1906-02-18', 'end_mandate': '1913-02-18'}, {'id': 'Q309995', 'first_name': 'Paul', 'last_name': 'Deschanel', 'birth_date': '1855-02-13', 'death_date': '1922-04-28', 'place_of_birth': 'Schaerbeek - Schaarbeek', 'wikipedia_url': 'https://fr.wikipedia.org/wiki/Paul_Deschanel', 'start_mandate': '1920-02-18', 'end_mandate': '1920-09-21'}, {'id': 'Q312026', 'first_name': 'Georges', 'last_name': 'Bidault', 'birth_date': '1899-10-05', 'death_date': '1983-01-27', 'place_of_birth': 'Moulins', 'wikipedia_url': 'https://fr.wikipedia.org/wiki/Georges_Bidault', 'start_mandate': '1946-06-24', 'end_mandate': '1946-10-14'}, {'id': 'Q315656', 'first_name': 'Jean', 'last_name': 'Casimir-Perier', 'birth_date': '1847-11-08', 'death_date': '1907-03-11', 'place_of_birth': 'Paris', 'wikipedia_url': 'https://fr.wikipedia.org/wiki/Jean_Casimir-Perier', 'start_mandate': '1894-06-27', 'end_mandate': '1895-01-16'}, {'id': 'Q356032', 'first_name': 'Charles', 'last_name': 'Dupuy', 'birth_date': '1851-11-05', 'death_date': '1923-07-23', 'place_of_birth': 'Le Puy-en-Velay', 'wikipedia_url': 'https://fr.wikipedia.org/wiki/Charles_Dupuy', 'start_mandate': '1894-06-25', 'end_mandate': '1894-06-27'}, {'id': 'Q379702', 'first_name': 'Louis', 'last_name': 'Cavaignac', 'birth_date': '1802-10-15', 'death_date': '1857-10-28', 'place_of_birth': 'Paris', 'wikipedia_url': 'https://fr.wikipedia.org/wiki/Eug%C3%A8ne_Cavaignac', 'start_mandate': '1848-06-28', 'end_mandate': '1848-12-20'}, {'id': 'Q441235', 'first_name': 'Louis', 'last_name': 'None', 'birth_date': '1815-03-12', 'death_date': '1896-10-07', 'place_of_birth': 'Le Palais', 'wikipedia_url': 'https://fr.wikipedia.org/wiki/Louis_Jules_Trochu', 'start_mandate': '1870-09-04', 'end_mandate': '1871-01-22'}, {'id': 'Q459212', 'first_name': 'Frédéric', 'last_name': 'None', 'birth_date': '1874-03-16', 'death_date': '1958-05-20', 'place_of_birth': 'Paris', 'wikipedia_url': 'https://fr.wikipedia.org/wiki/Fr%C3%A9d%C3%A9ric_Fran%C3%A7ois-Marsal', 'start_mandate': '1924-06-11', 'end_mandate': '1924-06-13'}, {'id': 'Q3052772', 'first_name': 'Emmanuel', 'last_name': 'Macron', 'birth_date': '1977-12-21', 'death_date': None, 'place_of_birth': 'Amiens', 'wikipedia_url': 'https://fr.wikipedia.org/wiki/Emmanuel_Macron', 'start_mandate': '2017-05-14', 'end_mandate': None}]\n"
          ]
        }
      ],
      "source": [
        "# query the /leaders endpoint using cookies and parameters (take any country in countries)\n",
        "# assign the output to the leaders variable (1 line)\n",
        "\n",
        "# display the leaders variable (1 line)\n",
        "import requests\n",
        "\n",
        "# Step 1: Get the cookie\n",
        "cookie_url = \"https://country-leaders.onrender.com/cookie\"\n",
        "response = requests.get(cookie_url)\n",
        "cookie_jar = response.cookies.get_dict()\n",
        "\n",
        "# Step 2: Set the /leaders endpoint URL with country parameter\n",
        "country_code = \"fr\"\n",
        "leaders_url = f\"https://country-leaders.onrender.com/leaders?country={country_code}\"\n",
        "\n",
        "# Step 3: Query the /leaders endpoint with the cookie\n",
        "leaders = requests.get(leaders_url, cookies=cookie_jar)\n",
        "\n",
        "# Step 4: Display the result\n",
        "print(leaders.json())\n",
        "\n"
      ]
    },
    {
      "attachments": {},
      "cell_type": "markdown",
      "metadata": {
        "id": "uW3k5uquCirA"
      },
      "source": [
        "### 1e. A sneak peak at the data (finally)\n",
        "\n",
        "Look inside a few examples. Notice the dictionary keys available for each entry. You have your first example of *structured data*. This data was sanitized for your benefit, meaning it is readily exploitable without modification.\n",
        "\n",
        "You will also notice there is a Wikipedia link for each entry. You will need to extract additional information there. This will be a case of *semi-structured* data.\n",
        "\n",
        "The /countries endpoint returns a `list` of several country codes.\n",
        "\n",
        "You need to loop through this list and query the /leaders endpoint for each one. Save each `json` result in a dictionary called `leaders_per_country`."
      ]
    },
    {
      "cell_type": "code",
      "execution_count": 7,
      "metadata": {
        "id": "H8EdK2S9rvPJ"
      },
      "outputs": [],
      "source": [
        "# 4 lines\n"
      ]
    },
    {
      "cell_type": "code",
      "execution_count": 8,
      "metadata": {},
      "outputs": [],
      "source": [
        "# or 1 line\n"
      ]
    },
    {
      "cell_type": "markdown",
      "metadata": {
        "id": "WsA2j7s_RMgy"
      },
      "source": [
        "It is finally time to create a `get_leaders()` function for the above code. You will build on it later-on. This function takes no parameter. Inside it, you will need to:\n",
        "1. define the urls\n",
        "2. get the cookies\n",
        "2. get the countries\n",
        "3. loop over them and save their leaders in a dictionary\n",
        "4. return the dictionary"
      ]
    },
    {
      "cell_type": "code",
      "execution_count": 9,
      "metadata": {
        "id": "p6C7BgWQMxV2"
      },
      "outputs": [],
      "source": [
        "# < 15 lines\n"
      ]
    },
    {
      "cell_type": "markdown",
      "metadata": {
        "id": "I76-InoKuuV8"
      },
      "source": [
        "Test your function, save the result in the `leaders_per_country` dictionary and check its ouput."
      ]
    },
    {
      "cell_type": "code",
      "execution_count": 10,
      "metadata": {
        "id": "eXwd8o7Gu8yG"
      },
      "outputs": [],
      "source": [
        "# 2 lines\n"
      ]
    },
    {
      "cell_type": "markdown",
      "metadata": {
        "id": "D1Fc1mHySn9g"
      },
      "source": [
        "## 2. Extracting data from Wikipedia\n",
        "\n",
        "Query one of the leaders' Wikipedia urls and display its `text` (not JSON)."
      ]
    },
    {
      "cell_type": "code",
      "execution_count": 11,
      "metadata": {
        "id": "cEKKqyTHr3fD"
      },
      "outputs": [],
      "source": [
        "# 3 lines\n"
      ]
    },
    {
      "attachments": {},
      "cell_type": "markdown",
      "metadata": {
        "id": "ZlsqjiTYr8sK"
      },
      "source": [
        "Ouch! You get the raw HTML code of the webpage. If you try to deal with it without tools, you will be there all night. Instead, use the [beautiful soup 4](https://www.crummy.com/software/BeautifulSoup/bs4/doc/) *external* library. You will find more info about it [here](../../2.python/2.python_advanced/05.Scraping/1.beautifulsoup_basic.ipynb) and [here](../../2.python/2.python_advanced/05.Scraping/2.beautifulsoup_advanced.ipynb)\n",
        "\n",
        "Using the Quickstart section, start by importing the library and loading the output of your `get_text()` function.\n",
        "\n",
        "Use the `prettify()` function and print it to take a look. You will start the actual parsing in the next step."
      ]
    },
    {
      "cell_type": "code",
      "execution_count": 12,
      "metadata": {
        "id": "h79ahwJvr7p-"
      },
      "outputs": [],
      "source": [
        "# 3 lines\n"
      ]
    },
    {
      "cell_type": "markdown",
      "metadata": {
        "id": "aQsLjaig7_dY"
      },
      "source": [
        "That looks better but you need to extract the right part of the webpage: the text of the first paragraph.\n",
        "\n",
        "It is a bit tricky because Wikipedia pages slightly differ in structure from one language to the next. We cannot simply get the text for the first HTML paragraph.\n",
        "\n",
        "You will start by getting all the HTML paragraphs from the HTML source and saving them in the `paragraphs` variable.\n",
        "\n",
        "Use the documentation or google the appropriate keywords."
      ]
    },
    {
      "cell_type": "code",
      "execution_count": 13,
      "metadata": {
        "id": "Vs8HeBx19oyC"
      },
      "outputs": [],
      "source": [
        "# 2 lines\n"
      ]
    },
    {
      "cell_type": "markdown",
      "metadata": {
        "id": "3tlaL3aM9zoo"
      },
      "source": [
        "If you try different urls, you might find that the paragraph you want may be at a different index each time.\n",
        "\n",
        "That is where you need to be clever and ask yourself what would be a reliable way to identify the right index ie. which string matches only the first paragraph whatever the language...\n",
        "\n",
        "Spend a good 30 minutes on the problem and brainstorm with your fellow learners. If you come out empty handed, ask your coach.\n",
        "\n",
        "1. Loop over the HTML paragraphs\n",
        "2. When you have identified the correct one:\n",
        "   * Store the [text](https://www.crummy.com/software/BeautifulSoup/bs4/doc/#output) inside the `first_paragraph` variable\n",
        "   * Exit the loop"
      ]
    },
    {
      "cell_type": "code",
      "execution_count": 14,
      "metadata": {
        "id": "0DduDXaQALau"
      },
      "outputs": [],
      "source": [
        "# <10 lines\n",
        "\n"
      ]
    },
    {
      "cell_type": "markdown",
      "metadata": {
        "id": "KFe-1LlIHBGm"
      },
      "source": [
        "At this stage, you can create a function to maintain consistency in your code. We will give you its *skeleton*, you will copy the code you wrote and make it work inside a function.\n",
        "\n",
        "Don't forget to test your function."
      ]
    },
    {
      "cell_type": "code",
      "execution_count": 15,
      "metadata": {
        "id": "wQORoweDHARO"
      },
      "outputs": [],
      "source": [
        "# 10 lines\n",
        "# def get_first_paragraph(wikipedia_url):\n",
        "#   print(wikipedia_url) # keep this for the rest of the notebook\n",
        "#   [insert your code]\n",
        "#   return first_paragraph"
      ]
    },
    {
      "cell_type": "code",
      "execution_count": 16,
      "metadata": {},
      "outputs": [],
      "source": [
        "# Test: 3 lines\n"
      ]
    },
    {
      "cell_type": "markdown",
      "metadata": {
        "id": "UtoM4dgsBVoD"
      },
      "source": [
        "### 2a. Regular expressions to the rescue\n",
        "\n",
        "Now that you have extracted the content of the first paragraph, the only thing that remains to finish your Wikipedia scraper is to sanitize the output.\n",
        "\n",
        "Indeed some Wikipedia references, HTML code, phonetic pronunciation etc. may linger. You might find *regular expressions* handy to get rid of them and obtain pristine text. You will find some useful documentation about regular expressions [here](../../2.python/2.python_advanced/03.Regex/regex.ipynb)\n",
        "\n",
        "Once you have one of your regex working online, try it in the cell below. \n",
        "\n",
        "Hints: \n",
        "* Check the `sub()` method documentation.\n",
        "* Make sure to test urls in different languages. Some may look good but other do not."
      ]
    },
    {
      "cell_type": "code",
      "execution_count": 17,
      "metadata": {
        "id": "7DHEAb6oBUxd"
      },
      "outputs": [],
      "source": [
        "# 3 lines\n",
        "\n"
      ]
    },
    {
      "cell_type": "markdown",
      "metadata": {
        "id": "QekqWs-4E0bK"
      },
      "source": [
        "Overwrite the `get_first_paragraph()` function by applying your regex to the first paragraph before returning it."
      ]
    },
    {
      "cell_type": "code",
      "execution_count": 18,
      "metadata": {
        "id": "voT-jzd7FMOc"
      },
      "outputs": [],
      "source": [
        "# 10 lines\n"
      ]
    },
    {
      "cell_type": "markdown",
      "metadata": {
        "id": "gyZkffTEFR0z"
      },
      "source": [
        "Come up with other regexes to capture other patterns and sanitize the outputs completely. Modify your `get_first_paragraph()` function accordingly."
      ]
    },
    {
      "cell_type": "code",
      "execution_count": 19,
      "metadata": {
        "id": "NOmkLM9JFRCp"
      },
      "outputs": [],
      "source": [
        "# < 20 lines\n"
      ]
    },
    {
      "cell_type": "markdown",
      "metadata": {
        "id": "VY7bM7Z1Nr0K"
      },
      "source": [
        "## 3. Putting it all together\n",
        "\n",
        "Let's go back to your `get_leaders()` function and update it with an *inner* loop over each leader. You will query the url provided and extract the first paragraph using the `get_first_paragraph()` function you just finished. You will then update that `leader`'s dictionary and move on to the next one.\n",
        "\n",
        "Notice, the rest of the code should not change since you modify the leader's data one by one."
      ]
    },
    {
      "cell_type": "code",
      "execution_count": 20,
      "metadata": {},
      "outputs": [],
      "source": [
        "# < 20 lines"
      ]
    },
    {
      "cell_type": "code",
      "execution_count": 21,
      "metadata": {
        "id": "RICG4T3DPZ1b"
      },
      "outputs": [],
      "source": [
        "# Check the output of your function (2 lines)\n"
      ]
    },
    {
      "attachments": {},
      "cell_type": "markdown",
      "metadata": {
        "id": "8sCKxGrnJCxv"
      },
      "source": [
        "Does the function crash in the middle of the loop? Chances are the cookies have expired while looping over the leaders.\n",
        "\n",
        "Modify your function with an *exception* or check if the `status_code` is a cookie error. In either case, get new cookies and query the api again.\n",
        "\n",
        "If your code did not crash,"
      ]
    },
    {
      "cell_type": "code",
      "execution_count": 22,
      "metadata": {
        "id": "rgPd2dxgJiW1"
      },
      "outputs": [],
      "source": [
        "# < 25 lines\n",
        "\n"
      ]
    },
    {
      "cell_type": "markdown",
      "metadata": {
        "id": "3JvV-kPsKLl0"
      },
      "source": [
        "Check the output of your function again."
      ]
    },
    {
      "cell_type": "code",
      "execution_count": 23,
      "metadata": {
        "id": "mPXT-cxgKQof"
      },
      "outputs": [],
      "source": [
        "# Check the output of your function (1 line)\n"
      ]
    },
    {
      "cell_type": "markdown",
      "metadata": {
        "id": "Y9lgxh_NMSO3"
      },
      "source": [
        "Well done! It took a while however... Let's speed things up. The main *bottleneck* is the loop. We call on the Wikipedia website many times.\n",
        "\n",
        "You will use the same *session* to call all the wikipedia pages. Check the *Advanced Usage* section of the Requests module's documentation.\n",
        "\n",
        "Start by modifying the `get_first_paragraph()` function to accept a session parameter and adjust the `get()` method call."
      ]
    },
    {
      "cell_type": "code",
      "execution_count": 24,
      "metadata": {
        "id": "XTEVLIJ-V7z1"
      },
      "outputs": [],
      "source": [
        "# < 20 lines\n"
      ]
    },
    {
      "cell_type": "markdown",
      "metadata": {
        "id": "3gcgHMkeWK5-"
      },
      "source": [
        "Modify your `get_leaders()` function to make use of a single session for all the Wikipedia calls.\n",
        "1. create a `Session` object outside of the loop over countries.\n",
        "2. pass it to the `get_first_paragraph()` function as an argument."
      ]
    },
    {
      "cell_type": "code",
      "execution_count": 25,
      "metadata": {
        "id": "Kt6JtKDpOAIe"
      },
      "outputs": [],
      "source": [
        "# <25 lines\n"
      ]
    },
    {
      "cell_type": "markdown",
      "metadata": {
        "id": "fy09nMG9VOaI"
      },
      "source": [
        "Test your new functions.\n",
        "\n"
      ]
    },
    {
      "cell_type": "code",
      "execution_count": null,
      "metadata": {
        "id": "p5wFE6ivRf-Z"
      },
      "outputs": [],
      "source": []
    },
    {
      "attachments": {},
      "cell_type": "markdown",
      "metadata": {
        "id": "LtLTvw3wPqe0"
      },
      "source": [
        "## 4. Saving your hard work\n",
        "\n",
        "The final step is to save the ``leaders_per_country`` dictionary in the `leaders.json` file using the [json](https://docs.python.org/3/library/json.html) module. Check out the `with` statement."
      ]
    },
    {
      "cell_type": "code",
      "execution_count": 26,
      "metadata": {
        "id": "pTNGKKrOjNDk"
      },
      "outputs": [],
      "source": [
        "# 3 lines\n"
      ]
    },
    {
      "attachments": {},
      "cell_type": "markdown",
      "metadata": {
        "id": "v7uf_kfGCWmM"
      },
      "source": [
        "Make sure the file can be read back. Write the code to read the file. And check the variables are the same."
      ]
    },
    {
      "cell_type": "code",
      "execution_count": 27,
      "metadata": {
        "id": "4VwNjBYyjPzs"
      },
      "outputs": [],
      "source": [
        "# 3 lines\n"
      ]
    },
    {
      "cell_type": "markdown",
      "metadata": {
        "id": "1fW_U7gXktyv"
      },
      "source": [
        "Make a function `save(leaders_per_country)` to call this code easily."
      ]
    },
    {
      "cell_type": "code",
      "execution_count": 28,
      "metadata": {
        "id": "EfknpnTljqUd"
      },
      "outputs": [],
      "source": [
        "# 3 lines\n"
      ]
    },
    {
      "cell_type": "code",
      "execution_count": 29,
      "metadata": {
        "id": "lWQ6bbn31cix"
      },
      "outputs": [],
      "source": [
        "# Call the function (1 line)\n"
      ]
    },
    {
      "cell_type": "markdown",
      "metadata": {
        "id": "W5W6nPihlQo9"
      },
      "source": [
        "## 5. Tidy things up in a stand-alone python script\n",
        "\n",
        "Congratulations! You now have a working scraper! However, your code is scattered throughout this notebook along side the tutorials. Hardly production ready...\n",
        "\n",
        "Copy and paste what you need in a separate `leaders_scraper.py` file.\n",
        "Make sure it works by calling `python3 leaders_scraper.py`"
      ]
    },
    {
      "cell_type": "markdown",
      "metadata": {
        "id": "D0cvv193mlxY"
      },
      "source": [
        "## (Optional) To go further\n",
        "\n",
        "If you want to practice scraping, you can read this section and tackle the exercises.\n",
        "\n",
        "1. Restructure your code by using OOP (see ReadMe).\n",
        "2. You have noticed the API returns very partial results for country leaders. Many are missing. Overwrite the `get_leaders()` function to get its list from Wikipedia and extract their *personal details* from the frame on the side.\n",
        "\n",
        "Good luck!"
      ]
    }
  ],
  "metadata": {
    "colab": {
      "collapsed_sections": [],
      "provenance": [],
      "toc_visible": true
    },
    "kernelspec": {
      "display_name": "myenv",
      "language": "python",
      "name": "python3"
    },
    "language_info": {
      "codemirror_mode": {
        "name": "ipython",
        "version": 3
      },
      "file_extension": ".py",
      "mimetype": "text/x-python",
      "name": "python",
      "nbconvert_exporter": "python",
      "pygments_lexer": "ipython3",
      "version": "3.12.10"
    }
  },
  "nbformat": 4,
  "nbformat_minor": 0
}
